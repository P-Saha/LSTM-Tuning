{
  "cells": [
    {
      "cell_type": "markdown",
      "metadata": {
        "colab_type": "text",
        "id": "view-in-github"
      },
      "source": [
        "<a href=\"https://colab.research.google.com/github/lilyzhizhou/Datathon-5/blob/main/Datathon_5_LSTM_Model.ipynb\" target=\"_parent\"><img src=\"https://colab.research.google.com/assets/colab-badge.svg\" alt=\"Open In Colab\"/></a>"
      ]
    },
    {
      "cell_type": "code",
      "execution_count": 34,
      "metadata": {
        "id": "YDgcNd0fSD19"
      },
      "outputs": [],
      "source": [
        "import pandas as pd\n",
        "import numpy as np\n",
        "import warnings\n",
        "import torch as t\n",
        "import torch.nn as nn\n",
        "import random\n",
        "from torch.utils.data import TensorDataset, DataLoader\n",
        "\n",
        "from sklearn.model_selection import train_test_split\n",
        "from sklearn.preprocessing import StandardScaler\n",
        "\n",
        "import matplotlib.pyplot as plt\n",
        "\n",
        "warnings.filterwarnings('ignore')\n",
        "\n",
        "np.random.seed(42)"
      ]
    },
    {
      "cell_type": "code",
      "execution_count": 35,
      "metadata": {},
      "outputs": [
        {
          "name": "stdout",
          "output_type": "stream",
          "text": [
            "Using cuda device\n"
          ]
        }
      ],
      "source": [
        "# Get cpu, gpu or mps device for training.\n",
        "device = (\n",
        "    \"cuda\"\n",
        "    if t.cuda.is_available()\n",
        "    else \"mps\"\n",
        "    if t.backends.mps.is_available()\n",
        "    else \"cpu\"\n",
        ")\n",
        "print(f\"Using {device} device\")"
      ]
    },
    {
      "cell_type": "code",
      "execution_count": 36,
      "metadata": {
        "colab": {
          "base_uri": "https://localhost:8080/"
        },
        "id": "J7fyI8PoSWC4",
        "outputId": "b02867a0-1533-4652-99a6-c1da12a4bd4e"
      },
      "outputs": [],
      "source": [
        "#from google.colab import drive\n",
        "#drive.mount('/content/drive')"
      ]
    },
    {
      "cell_type": "code",
      "execution_count": 37,
      "metadata": {
        "colab": {
          "base_uri": "https://localhost:8080/",
          "height": 224
        },
        "id": "FFpB2eXAShmi",
        "outputId": "466b836b-fe26-40e0-d758-b7f2eaee4ee9"
      },
      "outputs": [
        {
          "name": "stdout",
          "output_type": "stream",
          "text": [
            "(982273, 14)\n"
          ]
        },
        {
          "data": {
            "text/html": [
              "<div>\n",
              "<style scoped>\n",
              "    .dataframe tbody tr th:only-of-type {\n",
              "        vertical-align: middle;\n",
              "    }\n",
              "\n",
              "    .dataframe tbody tr th {\n",
              "        vertical-align: top;\n",
              "    }\n",
              "\n",
              "    .dataframe thead th {\n",
              "        text-align: right;\n",
              "    }\n",
              "</style>\n",
              "<table border=\"1\" class=\"dataframe\">\n",
              "  <thead>\n",
              "    <tr style=\"text-align: right;\">\n",
              "      <th></th>\n",
              "      <th>alx</th>\n",
              "      <th>aly</th>\n",
              "      <th>alz</th>\n",
              "      <th>glx</th>\n",
              "      <th>gly</th>\n",
              "      <th>glz</th>\n",
              "      <th>arx</th>\n",
              "      <th>ary</th>\n",
              "      <th>arz</th>\n",
              "      <th>grx</th>\n",
              "      <th>gry</th>\n",
              "      <th>grz</th>\n",
              "      <th>Activity</th>\n",
              "      <th>subject</th>\n",
              "    </tr>\n",
              "  </thead>\n",
              "  <tbody>\n",
              "    <tr>\n",
              "      <th>0</th>\n",
              "      <td>2.1849</td>\n",
              "      <td>-9.6967</td>\n",
              "      <td>0.63077</td>\n",
              "      <td>0.103900</td>\n",
              "      <td>-0.84053</td>\n",
              "      <td>-0.68762</td>\n",
              "      <td>-8.6499</td>\n",
              "      <td>-4.5781</td>\n",
              "      <td>0.187760</td>\n",
              "      <td>-0.44902</td>\n",
              "      <td>-1.0103</td>\n",
              "      <td>0.034483</td>\n",
              "      <td>0</td>\n",
              "      <td>subject1</td>\n",
              "    </tr>\n",
              "    <tr>\n",
              "      <th>1</th>\n",
              "      <td>2.3876</td>\n",
              "      <td>-9.5080</td>\n",
              "      <td>0.68389</td>\n",
              "      <td>0.085343</td>\n",
              "      <td>-0.83865</td>\n",
              "      <td>-0.68369</td>\n",
              "      <td>-8.6275</td>\n",
              "      <td>-4.3198</td>\n",
              "      <td>0.023595</td>\n",
              "      <td>-0.44902</td>\n",
              "      <td>-1.0103</td>\n",
              "      <td>0.034483</td>\n",
              "      <td>0</td>\n",
              "      <td>subject1</td>\n",
              "    </tr>\n",
              "    <tr>\n",
              "      <th>2</th>\n",
              "      <td>2.4086</td>\n",
              "      <td>-9.5674</td>\n",
              "      <td>0.68113</td>\n",
              "      <td>0.085343</td>\n",
              "      <td>-0.83865</td>\n",
              "      <td>-0.68369</td>\n",
              "      <td>-8.5055</td>\n",
              "      <td>-4.2772</td>\n",
              "      <td>0.275720</td>\n",
              "      <td>-0.44902</td>\n",
              "      <td>-1.0103</td>\n",
              "      <td>0.034483</td>\n",
              "      <td>0</td>\n",
              "      <td>subject1</td>\n",
              "    </tr>\n",
              "    <tr>\n",
              "      <th>3</th>\n",
              "      <td>2.1814</td>\n",
              "      <td>-9.4301</td>\n",
              "      <td>0.55031</td>\n",
              "      <td>0.085343</td>\n",
              "      <td>-0.83865</td>\n",
              "      <td>-0.68369</td>\n",
              "      <td>-8.6279</td>\n",
              "      <td>-4.3163</td>\n",
              "      <td>0.367520</td>\n",
              "      <td>-0.45686</td>\n",
              "      <td>-1.0082</td>\n",
              "      <td>0.025862</td>\n",
              "      <td>0</td>\n",
              "      <td>subject1</td>\n",
              "    </tr>\n",
              "    <tr>\n",
              "      <th>4</th>\n",
              "      <td>2.4173</td>\n",
              "      <td>-9.3889</td>\n",
              "      <td>0.71098</td>\n",
              "      <td>0.085343</td>\n",
              "      <td>-0.83865</td>\n",
              "      <td>-0.68369</td>\n",
              "      <td>-8.7008</td>\n",
              "      <td>-4.1459</td>\n",
              "      <td>0.407290</td>\n",
              "      <td>-0.45686</td>\n",
              "      <td>-1.0082</td>\n",
              "      <td>0.025862</td>\n",
              "      <td>0</td>\n",
              "      <td>subject1</td>\n",
              "    </tr>\n",
              "  </tbody>\n",
              "</table>\n",
              "</div>"
            ],
            "text/plain": [
              "      alx     aly      alz       glx      gly      glz     arx     ary  \\\n",
              "0  2.1849 -9.6967  0.63077  0.103900 -0.84053 -0.68762 -8.6499 -4.5781   \n",
              "1  2.3876 -9.5080  0.68389  0.085343 -0.83865 -0.68369 -8.6275 -4.3198   \n",
              "2  2.4086 -9.5674  0.68113  0.085343 -0.83865 -0.68369 -8.5055 -4.2772   \n",
              "3  2.1814 -9.4301  0.55031  0.085343 -0.83865 -0.68369 -8.6279 -4.3163   \n",
              "4  2.4173 -9.3889  0.71098  0.085343 -0.83865 -0.68369 -8.7008 -4.1459   \n",
              "\n",
              "        arz      grx     gry       grz  Activity   subject  \n",
              "0  0.187760 -0.44902 -1.0103  0.034483         0  subject1  \n",
              "1  0.023595 -0.44902 -1.0103  0.034483         0  subject1  \n",
              "2  0.275720 -0.44902 -1.0103  0.034483         0  subject1  \n",
              "3  0.367520 -0.45686 -1.0082  0.025862         0  subject1  \n",
              "4  0.407290 -0.45686 -1.0082  0.025862         0  subject1  "
            ]
          },
          "execution_count": 37,
          "metadata": {},
          "output_type": "execute_result"
        }
      ],
      "source": [
        "# Load in data\n",
        "# data = pd.read_csv('/content/drive/MyDrive/Machine Learning /Datathon #5/mhealth.csv')\n",
        "data = pd.read_csv('mhealth.csv')\n",
        "\n",
        "# drop subject 9 bc their distribution is different from the others\n",
        "data = data[data['subject'] != 'subject9']\n",
        "\n",
        "print(data.shape)\n",
        "data.head()"
      ]
    },
    {
      "cell_type": "code",
      "execution_count": 38,
      "metadata": {
        "colab": {
          "base_uri": "https://localhost:8080/"
        },
        "id": "Gm4ZPyaIJaCO",
        "outputId": "3e43bece-73c9-46fc-e522-2e7122477abb"
      },
      "outputs": [
        {
          "data": {
            "text/plain": [
              "alx         float64\n",
              "aly         float64\n",
              "alz         float64\n",
              "glx         float64\n",
              "gly         float64\n",
              "glz         float64\n",
              "arx         float64\n",
              "ary         float64\n",
              "arz         float64\n",
              "grx         float64\n",
              "gry         float64\n",
              "grz         float64\n",
              "Activity      int64\n",
              "subject      object\n",
              "dtype: object"
            ]
          },
          "execution_count": 38,
          "metadata": {},
          "output_type": "execute_result"
        }
      ],
      "source": [
        "data.dtypes"
      ]
    },
    {
      "cell_type": "markdown",
      "metadata": {
        "id": "fsXyNf6bHRTf"
      },
      "source": [
        "Split into Training and Testing\n",
        "\n",
        "\n",
        "---\n",
        "\n"
      ]
    },
    {
      "cell_type": "code",
      "execution_count": 39,
      "metadata": {
        "colab": {
          "base_uri": "https://localhost:8080/"
        },
        "id": "6jANd9lUHMsQ",
        "outputId": "ec10abf3-8502-4954-8d4d-9777c9aedc55"
      },
      "outputs": [
        {
          "data": {
            "text/plain": [
              "((753408, 14), (228865, 14))"
            ]
          },
          "execution_count": 39,
          "metadata": {},
          "output_type": "execute_result"
        }
      ],
      "source": [
        "# Grouping by 'subject' and creating a list of dataframes, one per group\n",
        "grouped = data.groupby('subject')\n",
        "grouped_data = [group for _, group in grouped]\n",
        "\n",
        "# Splitting the groups into training and test sets with an 80:20 ratio\n",
        "train_groups, test_groups = train_test_split(grouped_data, test_size=0.2, random_state=42)\n",
        "\n",
        "# Reassembling the training and test datasets from the groups\n",
        "train_df = pd.concat(train_groups)\n",
        "test_df = pd.concat(test_groups)\n",
        "\n",
        "# Displaying the shape of the training and test sets\n",
        "train_df_shape = train_df.shape\n",
        "test_df_shape = test_df.shape\n",
        "\n",
        "train_df_shape, test_df_shape"
      ]
    },
    {
      "cell_type": "code",
      "execution_count": 40,
      "metadata": {},
      "outputs": [
        {
          "data": {
            "text/html": [
              "<div>\n",
              "<style scoped>\n",
              "    .dataframe tbody tr th:only-of-type {\n",
              "        vertical-align: middle;\n",
              "    }\n",
              "\n",
              "    .dataframe tbody tr th {\n",
              "        vertical-align: top;\n",
              "    }\n",
              "\n",
              "    .dataframe thead th {\n",
              "        text-align: right;\n",
              "    }\n",
              "</style>\n",
              "<table border=\"1\" class=\"dataframe\">\n",
              "  <thead>\n",
              "    <tr style=\"text-align: right;\">\n",
              "      <th></th>\n",
              "      <th>alx</th>\n",
              "      <th>aly</th>\n",
              "      <th>alz</th>\n",
              "      <th>glx</th>\n",
              "      <th>gly</th>\n",
              "      <th>glz</th>\n",
              "      <th>arx</th>\n",
              "      <th>ary</th>\n",
              "      <th>arz</th>\n",
              "      <th>grx</th>\n",
              "      <th>gry</th>\n",
              "      <th>grz</th>\n",
              "      <th>Activity</th>\n",
              "      <th>subject</th>\n",
              "    </tr>\n",
              "  </thead>\n",
              "  <tbody>\n",
              "    <tr>\n",
              "      <th>161280</th>\n",
              "      <td>0.49965</td>\n",
              "      <td>-9.6680</td>\n",
              "      <td>1.5216</td>\n",
              "      <td>-0.47866</td>\n",
              "      <td>-0.53471</td>\n",
              "      <td>0.53438</td>\n",
              "      <td>-4.6451</td>\n",
              "      <td>-8.2508</td>\n",
              "      <td>1.9208</td>\n",
              "      <td>-0.98039</td>\n",
              "      <td>-0.41889</td>\n",
              "      <td>0.18966</td>\n",
              "      <td>0</td>\n",
              "      <td>subject2</td>\n",
              "    </tr>\n",
              "    <tr>\n",
              "      <th>161281</th>\n",
              "      <td>0.40572</td>\n",
              "      <td>-9.5801</td>\n",
              "      <td>1.4001</td>\n",
              "      <td>-0.48423</td>\n",
              "      <td>-0.54409</td>\n",
              "      <td>0.52652</td>\n",
              "      <td>-4.7847</td>\n",
              "      <td>-8.2609</td>\n",
              "      <td>1.9099</td>\n",
              "      <td>-0.98039</td>\n",
              "      <td>-0.41889</td>\n",
              "      <td>0.18966</td>\n",
              "      <td>0</td>\n",
              "      <td>subject2</td>\n",
              "    </tr>\n",
              "    <tr>\n",
              "      <th>161282</th>\n",
              "      <td>0.42741</td>\n",
              "      <td>-9.6488</td>\n",
              "      <td>1.4593</td>\n",
              "      <td>-0.48423</td>\n",
              "      <td>-0.54409</td>\n",
              "      <td>0.52652</td>\n",
              "      <td>-4.4974</td>\n",
              "      <td>-8.3198</td>\n",
              "      <td>2.0215</td>\n",
              "      <td>-0.97647</td>\n",
              "      <td>-0.42094</td>\n",
              "      <td>0.20043</td>\n",
              "      <td>0</td>\n",
              "      <td>subject2</td>\n",
              "    </tr>\n",
              "    <tr>\n",
              "      <th>161283</th>\n",
              "      <td>0.32193</td>\n",
              "      <td>-9.4522</td>\n",
              "      <td>1.3119</td>\n",
              "      <td>-0.48423</td>\n",
              "      <td>-0.54409</td>\n",
              "      <td>0.52652</td>\n",
              "      <td>-4.6902</td>\n",
              "      <td>-8.4318</td>\n",
              "      <td>1.8180</td>\n",
              "      <td>-0.97647</td>\n",
              "      <td>-0.42094</td>\n",
              "      <td>0.20043</td>\n",
              "      <td>0</td>\n",
              "      <td>subject2</td>\n",
              "    </tr>\n",
              "    <tr>\n",
              "      <th>161284</th>\n",
              "      <td>0.46731</td>\n",
              "      <td>-9.6397</td>\n",
              "      <td>1.3769</td>\n",
              "      <td>-0.49165</td>\n",
              "      <td>-0.52345</td>\n",
              "      <td>0.51866</td>\n",
              "      <td>-4.7595</td>\n",
              "      <td>-8.4420</td>\n",
              "      <td>1.7966</td>\n",
              "      <td>-0.97647</td>\n",
              "      <td>-0.42094</td>\n",
              "      <td>0.20043</td>\n",
              "      <td>0</td>\n",
              "      <td>subject2</td>\n",
              "    </tr>\n",
              "  </tbody>\n",
              "</table>\n",
              "</div>"
            ],
            "text/plain": [
              "            alx     aly     alz      glx      gly      glz     arx     ary  \\\n",
              "161280  0.49965 -9.6680  1.5216 -0.47866 -0.53471  0.53438 -4.6451 -8.2508   \n",
              "161281  0.40572 -9.5801  1.4001 -0.48423 -0.54409  0.52652 -4.7847 -8.2609   \n",
              "161282  0.42741 -9.6488  1.4593 -0.48423 -0.54409  0.52652 -4.4974 -8.3198   \n",
              "161283  0.32193 -9.4522  1.3119 -0.48423 -0.54409  0.52652 -4.6902 -8.4318   \n",
              "161284  0.46731 -9.6397  1.3769 -0.49165 -0.52345  0.51866 -4.7595 -8.4420   \n",
              "\n",
              "           arz      grx      gry      grz  Activity   subject  \n",
              "161280  1.9208 -0.98039 -0.41889  0.18966         0  subject2  \n",
              "161281  1.9099 -0.98039 -0.41889  0.18966         0  subject2  \n",
              "161282  2.0215 -0.97647 -0.42094  0.20043         0  subject2  \n",
              "161283  1.8180 -0.97647 -0.42094  0.20043         0  subject2  \n",
              "161284  1.7966 -0.97647 -0.42094  0.20043         0  subject2  "
            ]
          },
          "execution_count": 40,
          "metadata": {},
          "output_type": "execute_result"
        }
      ],
      "source": [
        "# train_df.head()\n",
        "test_df.head()"
      ]
    },
    {
      "cell_type": "markdown",
      "metadata": {
        "id": "nGHu70cSJFTL"
      },
      "source": [
        "Normalization\n",
        "\n",
        "---\n",
        "\n"
      ]
    },
    {
      "cell_type": "code",
      "execution_count": 41,
      "metadata": {
        "colab": {
          "base_uri": "https://localhost:8080/",
          "height": 224
        },
        "id": "3XCkC65bHMf8",
        "outputId": "2cca5ee7-f417-474e-ac6a-d7cddc9ca5bb"
      },
      "outputs": [
        {
          "name": "stdout",
          "output_type": "stream",
          "text": [
            "(753408, 14)\n"
          ]
        },
        {
          "data": {
            "text/html": [
              "<div>\n",
              "<style scoped>\n",
              "    .dataframe tbody tr th:only-of-type {\n",
              "        vertical-align: middle;\n",
              "    }\n",
              "\n",
              "    .dataframe tbody tr th {\n",
              "        vertical-align: top;\n",
              "    }\n",
              "\n",
              "    .dataframe thead th {\n",
              "        text-align: right;\n",
              "    }\n",
              "</style>\n",
              "<table border=\"1\" class=\"dataframe\">\n",
              "  <thead>\n",
              "    <tr style=\"text-align: right;\">\n",
              "      <th></th>\n",
              "      <th>alx</th>\n",
              "      <th>aly</th>\n",
              "      <th>alz</th>\n",
              "      <th>glx</th>\n",
              "      <th>gly</th>\n",
              "      <th>glz</th>\n",
              "      <th>arx</th>\n",
              "      <th>ary</th>\n",
              "      <th>arz</th>\n",
              "      <th>grx</th>\n",
              "      <th>gry</th>\n",
              "      <th>grz</th>\n",
              "      <th>Activity</th>\n",
              "      <th>subject</th>\n",
              "    </tr>\n",
              "  </thead>\n",
              "  <tbody>\n",
              "    <tr>\n",
              "      <th>0</th>\n",
              "      <td>0.214821</td>\n",
              "      <td>-0.022355</td>\n",
              "      <td>0.309939</td>\n",
              "      <td>0.244241</td>\n",
              "      <td>-0.668159</td>\n",
              "      <td>-1.036175</td>\n",
              "      <td>-1.098917</td>\n",
              "      <td>0.233330</td>\n",
              "      <td>-0.594683</td>\n",
              "      <td>-0.335191</td>\n",
              "      <td>-1.016340</td>\n",
              "      <td>-0.471094</td>\n",
              "      <td>0</td>\n",
              "      <td>subject1</td>\n",
              "    </tr>\n",
              "    <tr>\n",
              "      <th>1</th>\n",
              "      <td>0.267516</td>\n",
              "      <td>0.023418</td>\n",
              "      <td>0.319902</td>\n",
              "      <td>0.207517</td>\n",
              "      <td>-0.662733</td>\n",
              "      <td>-1.028975</td>\n",
              "      <td>-1.094306</td>\n",
              "      <td>0.278958</td>\n",
              "      <td>-0.636633</td>\n",
              "      <td>-0.335191</td>\n",
              "      <td>-1.016340</td>\n",
              "      <td>-0.471094</td>\n",
              "      <td>0</td>\n",
              "      <td>subject1</td>\n",
              "    </tr>\n",
              "    <tr>\n",
              "      <th>2</th>\n",
              "      <td>0.272975</td>\n",
              "      <td>0.009010</td>\n",
              "      <td>0.319384</td>\n",
              "      <td>0.207517</td>\n",
              "      <td>-0.662733</td>\n",
              "      <td>-1.028975</td>\n",
              "      <td>-1.069191</td>\n",
              "      <td>0.286484</td>\n",
              "      <td>-0.572206</td>\n",
              "      <td>-0.335191</td>\n",
              "      <td>-1.016340</td>\n",
              "      <td>-0.471094</td>\n",
              "      <td>0</td>\n",
              "      <td>subject1</td>\n",
              "    </tr>\n",
              "    <tr>\n",
              "      <th>3</th>\n",
              "      <td>0.213911</td>\n",
              "      <td>0.042315</td>\n",
              "      <td>0.294847</td>\n",
              "      <td>0.207517</td>\n",
              "      <td>-0.662733</td>\n",
              "      <td>-1.028975</td>\n",
              "      <td>-1.094388</td>\n",
              "      <td>0.279577</td>\n",
              "      <td>-0.548748</td>\n",
              "      <td>-0.349689</td>\n",
              "      <td>-1.012564</td>\n",
              "      <td>-0.486675</td>\n",
              "      <td>0</td>\n",
              "      <td>subject1</td>\n",
              "    </tr>\n",
              "    <tr>\n",
              "      <th>4</th>\n",
              "      <td>0.275237</td>\n",
              "      <td>0.052309</td>\n",
              "      <td>0.324983</td>\n",
              "      <td>0.207517</td>\n",
              "      <td>-0.662733</td>\n",
              "      <td>-1.028975</td>\n",
              "      <td>-1.109395</td>\n",
              "      <td>0.309677</td>\n",
              "      <td>-0.538585</td>\n",
              "      <td>-0.349689</td>\n",
              "      <td>-1.012564</td>\n",
              "      <td>-0.486675</td>\n",
              "      <td>0</td>\n",
              "      <td>subject1</td>\n",
              "    </tr>\n",
              "  </tbody>\n",
              "</table>\n",
              "</div>"
            ],
            "text/plain": [
              "        alx       aly       alz       glx       gly       glz       arx  \\\n",
              "0  0.214821 -0.022355  0.309939  0.244241 -0.668159 -1.036175 -1.098917   \n",
              "1  0.267516  0.023418  0.319902  0.207517 -0.662733 -1.028975 -1.094306   \n",
              "2  0.272975  0.009010  0.319384  0.207517 -0.662733 -1.028975 -1.069191   \n",
              "3  0.213911  0.042315  0.294847  0.207517 -0.662733 -1.028975 -1.094388   \n",
              "4  0.275237  0.052309  0.324983  0.207517 -0.662733 -1.028975 -1.109395   \n",
              "\n",
              "        ary       arz       grx       gry       grz  Activity   subject  \n",
              "0  0.233330 -0.594683 -0.335191 -1.016340 -0.471094         0  subject1  \n",
              "1  0.278958 -0.636633 -0.335191 -1.016340 -0.471094         0  subject1  \n",
              "2  0.286484 -0.572206 -0.335191 -1.016340 -0.471094         0  subject1  \n",
              "3  0.279577 -0.548748 -0.349689 -1.012564 -0.486675         0  subject1  \n",
              "4  0.309677 -0.538585 -0.349689 -1.012564 -0.486675         0  subject1  "
            ]
          },
          "execution_count": 41,
          "metadata": {},
          "output_type": "execute_result"
        }
      ],
      "source": [
        "# Identifying numerical columns (excluding 'subject' and 'Activity')\n",
        "numerical_columns = train_df.select_dtypes(include=['float64']).columns.tolist()\n",
        "\n",
        "# Initializing the StandardScaler\n",
        "scaler = StandardScaler()\n",
        "\n",
        "# Fitting the scaler to the training data and transforming both training and test data\n",
        "train_df[numerical_columns] = scaler.fit_transform(train_df[numerical_columns])\n",
        "test_df[numerical_columns] = scaler.transform(test_df[numerical_columns])\n",
        "\n",
        "# Checking the first few rows of the normalized training data\n",
        "print(train_df.shape)\n",
        "train_df.head()"
      ]
    },
    {
      "cell_type": "markdown",
      "metadata": {
        "id": "HxcAKE4SOK9W"
      },
      "source": [
        "Sequence Creation & Addressing Class Imbalance\n",
        "\n",
        "---\n",
        "\n"
      ]
    },
    {
      "cell_type": "code",
      "execution_count": 42,
      "metadata": {
        "colab": {
          "base_uri": "https://localhost:8080/"
        },
        "id": "gmFJpMgtOSCq",
        "outputId": "c3f7b9ec-e048-4b0a-d056-be647a97520f"
      },
      "outputs": [
        {
          "data": {
            "text/plain": [
              "((2446, 100, 12), (2446,), (2288, 100, 12), (2288,))"
            ]
          },
          "execution_count": 42,
          "metadata": {},
          "output_type": "execute_result"
        }
      ],
      "source": [
        "# Sequence creation for data (with undersampling for train data)\n",
        "sensor_columns = ['alx','aly','alz','glx','gly','glz','arx','ary','arz','grx','gry','grz']\n",
        "\n",
        "def create_sequences(data, sequence_length=100, train = True):\n",
        "    sequences = []\n",
        "    output = []\n",
        "    for i in range(0, len(data) - sequence_length + 1, sequence_length):\n",
        "        sequence = data[i:i + sequence_length]\n",
        "        # We label the sequence with the most intense activity within the sequence\n",
        "        label = sequence['Activity'].max()\n",
        "\n",
        "        # Undersampling label 0 for train data only\n",
        "        if train == False or (label != 0 or random.random() > 0.95): # undersample the 0 labels where there is a 95% chance to drop\n",
        "          sequences.append(sequence[sensor_columns].values)\n",
        "          output.append(label)\n",
        "\n",
        "    return np.array(sequences), np.array(output)\n",
        "\n",
        "# Creating sequences for training and test data\n",
        "X_train, y_train = create_sequences(train_df, sequence_length=100, train = True)\n",
        "X_test, y_test = create_sequences(test_df, sequence_length=100, train = False)\n",
        "\n",
        "X_train.shape, y_train.shape, X_test.shape, y_test.shape"
      ]
    },
    {
      "cell_type": "code",
      "execution_count": 43,
      "metadata": {
        "colab": {
          "base_uri": "https://localhost:8080/",
          "height": 447
        },
        "id": "3E4f_hh-wrnr",
        "outputId": "56de2874-3e39-411c-a5c1-52ada91d4d05"
      },
      "outputs": [
        {
          "data": {
            "text/plain": [
              "<Axes: ylabel='Count'>"
            ]
          },
          "execution_count": 43,
          "metadata": {},
          "output_type": "execute_result"
        },
        {
          "data": {
            "image/png": "[encoded data removed]",
            "text/plain": [
              "<Figure size 640x480 with 1 Axes>"
            ]
          },
          "metadata": {},
          "output_type": "display_data"
        }
      ],
      "source": [
        "import seaborn as sns\n",
        "# for i in range(len(y_train)):\n",
        "#   print(y_train[i])\n",
        "\n",
        "sns.histplot(y_train)"
      ]
    },
    {
      "cell_type": "markdown",
      "metadata": {
        "id": "zVXQ8msP56MP"
      },
      "source": [
        "Training data looks more balanced now"
      ]
    },
    {
      "cell_type": "markdown",
      "metadata": {
        "id": "AdV1O1g67gJT"
      },
      "source": [
        "Run LSTM Model\n",
        "\n",
        "---\n",
        "\n"
      ]
    },
    {
      "cell_type": "code",
      "execution_count": 44,
      "metadata": {},
      "outputs": [],
      "source": [
        "class lstmModel(nn.Module): # Model inherits from nn.Module\n",
        "    def __init__(self, input_size, hidden_dim, num_classes):\n",
        "        super().__init__()\n",
        "        self.lstm = nn.LSTM(input_size, hidden_dim, batch_first=True) # LSTM layer\n",
        "        self.fc = nn.Sequential(\n",
        "            nn.Linear(hidden_dim, num_classes)\n",
        "        )\n",
        "        \n",
        "    def forward(self, x):\n",
        "        out, _ = self.lstm(x)\n",
        "        out = self.fc(out.max(1)[0])\n",
        "        return nn.functional.log_softmax(out, dim=1)"
      ]
    },
    {
      "cell_type": "markdown",
      "metadata": {
        "id": "3pZ_pSbQ_eFZ"
      },
      "source": [
        "- will need to tune parameters\n",
        "- not sure what to set as hidden_size"
      ]
    },
    {
      "cell_type": "code",
      "execution_count": 45,
      "metadata": {
        "colab": {
          "base_uri": "https://localhost:8080/"
        },
        "id": "jkLxUk_f-QIG",
        "outputId": "623bc631-cc09-4e9b-91bb-d2d99040755f"
      },
      "outputs": [],
      "source": [
        "def modelLoop(epochs, hidden_dim, learning_rate, batch_size):\n",
        "\n",
        "    # Data preparation\n",
        "    train_dataset = TensorDataset(t.Tensor(X_train).type(t.float32).to(device), t.Tensor(y_train).type(t.float32).to(device))\n",
        "    train_data_loader = DataLoader(train_dataset, batch_size=batch_size, shuffle=True)\n",
        "\n",
        "    test_dataset = TensorDataset(t.Tensor(X_test).type(t.float32).to(device), t.Tensor(y_test).type(t.float32).to(device))\n",
        "    test_data_loader = DataLoader(test_dataset, batch_size=batch_size, shuffle=False)\n",
        "\n",
        "    # Model\n",
        "    model = lstmModel(input_size=12, hidden_dim = hidden_dim, num_classes = 13).to(device)\n",
        "\n",
        "    # Loss function and optimizer\n",
        "    loss_fn = nn.CrossEntropyLoss()\n",
        "    optimizer = t.optim.Adam(model.parameters(), lr=learning_rate)\n",
        "\n",
        "    # Lists to store accuracies and losses\n",
        "    train_accuracy_list = []\n",
        "    validation_accuracy_list = []\n",
        "    train_loss_list = []\n",
        "\n",
        "    # Training loop\n",
        "    for epoch in range(epochs+1):\n",
        "        # if epoch % 10 == 0:\n",
        "        #     learning_rate *= 0.9  # Learning rate scheduling\n",
        "\n",
        "        per_epoch_loss_list = []\n",
        "\n",
        "        # Setting Model to train mode\n",
        "        model.train()\n",
        "\n",
        "        for X, Y in train_data_loader:\n",
        "            Y = Y.type(t.LongTensor)   # casting to long\n",
        "            X = X.type(t.float32)   # casting to long\n",
        "            X, Y = X.to(device), Y.to(device)\n",
        "            # Forward pass through layers\n",
        "            pred = model(X)\n",
        "            loss = loss_fn(pred, Y)\n",
        "\n",
        "            per_epoch_loss_list.append(loss.item())\n",
        "\n",
        "            # Backward pass and optimization\n",
        "            optimizer.zero_grad()\n",
        "            loss.backward()\n",
        "            optimizer.step()\n",
        "\n",
        "        # Evaluation on training and validation data\n",
        "        model.eval()\n",
        "        \n",
        "        with t.no_grad():\n",
        "            # Training data\n",
        "            train_correct, train_total = 0, 0\n",
        "            for X, Y in train_data_loader:\n",
        "                y_pred = model(X)\n",
        "                _, predicted = t.max(y_pred, dim=1)\n",
        "                train_total += Y.size(0)\n",
        "                train_correct += (predicted == Y).sum().item()\n",
        "\n",
        "            train_accuracy = 100 * train_correct / train_total\n",
        "\n",
        "            # Validation data\n",
        "            validation_correct, validation_total = 0, 0\n",
        "            for X, Y in test_data_loader:\n",
        "                y_pred = model(X)\n",
        "                _, predicted = t.max(y_pred, dim=1)\n",
        "                validation_total += Y.size(0)\n",
        "                validation_correct += (predicted == Y).sum().item()\n",
        "            validation_accuracy = 100 * validation_correct / validation_total\n",
        "\n",
        "            # Print accuracy for the current epoch\n",
        "            # print(f'Epoch {epoch}/{epochs} ---> Train Accuracy: {train_accuracy}%, Validation Accuracy: {validation_accuracy}%')\n",
        "            if epoch % 10 == 0:\n",
        "                print(f'Epoch {epoch}/{epochs} ---> Train Accuracy: {train_accuracy}%, Validation Accuracy: {validation_accuracy}%')\n",
        "\n",
        "            # Append accuracy values to lists\n",
        "            train_accuracy_list.append(train_accuracy)\n",
        "            validation_accuracy_list.append(validation_accuracy)\n",
        "\n",
        "            # Calculate and append the average loss for the epoch\n",
        "            train_loss_list.append(sum(per_epoch_loss_list) / len(per_epoch_loss_list))\n",
        "\n",
        "    return train_accuracy_list, validation_accuracy_list\n",
        "    "
      ]
    },
    {
      "cell_type": "markdown",
      "metadata": {
        "id": "SLY9WwGx_mCg"
      },
      "source": [
        "- Not sure if we want only the last output of the sequence if we initially generated it using the max\n",
        "(out = out[:, -1, :])"
      ]
    },
    {
      "cell_type": "markdown",
      "metadata": {
        "id": "VhFt1BMhCKTM"
      },
      "source": [
        "- Using the last observation of sequence: Train Accuracy: 68.8%, Validation Accuracy: 27.4%\n",
        "- Using max observation of sequence Train Accuracy: 95.8%, Validation Accuracy: 56.4%"
      ]
    },
    {
      "cell_type": "code",
      "execution_count": 46,
      "metadata": {
        "colab": {
          "base_uri": "https://localhost:8080/",
          "height": 449
        },
        "id": "HAT3SVgQ_Giv",
        "outputId": "dce78f40-f6df-489d-8c4f-1a6094ad5822"
      },
      "outputs": [],
      "source": [
        "    \n",
        "def plot_acc(train_accuracy_list, validation_accuracy_list):\n",
        "    # Plot training and validation accuracy over epochs\n",
        "    plt.plot([i for i in range(len(train_accuracy_list))], train_accuracy_list, label=\"Train\")\n",
        "    plt.plot([i for i in range(len(validation_accuracy_list))], validation_accuracy_list, label=\"Validation\")\n",
        "    plt.legend(loc=\"upper left\")\n",
        "    plt.xlabel('Epochs')\n",
        "    plt.ylabel('Accuracy')\n",
        "    plt.show()"
      ]
    },
    {
      "cell_type": "code",
      "execution_count": 47,
      "metadata": {},
      "outputs": [
        {
          "name": "stdout",
          "output_type": "stream",
          "text": [
            "Batch Size: 64, Learning Rate: 0.001, Hidden Dim: 16\n"
          ]
        },
        {
          "ename": "RuntimeError",
          "evalue": "\"nll_loss_forward_reduce_cuda_kernel_2d_index\" not implemented for 'Float'",
          "output_type": "error",
          "traceback": [
            "\u001b[1;31m---------------------------------------------------------------------------\u001b[0m",
            "\u001b[1;31mRuntimeError\u001b[0m                              Traceback (most recent call last)",
            "\u001b[1;32mc:\\Users\\priyo\\OneDrive - University of Toronto\\Machine Learning Zahra\\Datathon 5\\Datathon-5\\Datathon_5_LSTM_Model.ipynb Cell 23\u001b[0m line \u001b[0;36m9\n\u001b[0;32m      <a href='vscode-notebook-cell:/c%3A/Users/priyo/OneDrive%20-%20University%20of%20Toronto/Machine%20Learning%20Zahra/Datathon%205/Datathon-5/Datathon_5_LSTM_Model.ipynb#X41sZmlsZQ%3D%3D?line=6'>7</a>\u001b[0m \u001b[39mfor\u001b[39;00m HIDDEN_DIM \u001b[39min\u001b[39;00m [\u001b[39m16\u001b[39m, \u001b[39m32\u001b[39m, \u001b[39m64\u001b[39m]:\n\u001b[0;32m      <a href='vscode-notebook-cell:/c%3A/Users/priyo/OneDrive%20-%20University%20of%20Toronto/Machine%20Learning%20Zahra/Datathon%205/Datathon-5/Datathon_5_LSTM_Model.ipynb#X41sZmlsZQ%3D%3D?line=7'>8</a>\u001b[0m     \u001b[39mprint\u001b[39m(\u001b[39mf\u001b[39m\u001b[39m'\u001b[39m\u001b[39mBatch Size: \u001b[39m\u001b[39m{\u001b[39;00mBATCH_SIZE\u001b[39m}\u001b[39;00m\u001b[39m, Learning Rate: \u001b[39m\u001b[39m{\u001b[39;00mLEARNING_RATE\u001b[39m}\u001b[39;00m\u001b[39m, Hidden Dim: \u001b[39m\u001b[39m{\u001b[39;00mHIDDEN_DIM\u001b[39m}\u001b[39;00m\u001b[39m'\u001b[39m)\n\u001b[1;32m----> <a href='vscode-notebook-cell:/c%3A/Users/priyo/OneDrive%20-%20University%20of%20Toronto/Machine%20Learning%20Zahra/Datathon%205/Datathon-5/Datathon_5_LSTM_Model.ipynb#X41sZmlsZQ%3D%3D?line=8'>9</a>\u001b[0m     train_accuracy_list, validation_accuracy_list \u001b[39m=\u001b[39m modelLoop(EPOCHS, HIDDEN_DIM, LEARNING_RATE, BATCH_SIZE)\n\u001b[0;32m     <a href='vscode-notebook-cell:/c%3A/Users/priyo/OneDrive%20-%20University%20of%20Toronto/Machine%20Learning%20Zahra/Datathon%205/Datathon-5/Datathon_5_LSTM_Model.ipynb#X41sZmlsZQ%3D%3D?line=9'>10</a>\u001b[0m     plot_acc(train_accuracy_list, validation_accuracy_list)\n\u001b[0;32m     <a href='vscode-notebook-cell:/c%3A/Users/priyo/OneDrive%20-%20University%20of%20Toronto/Machine%20Learning%20Zahra/Datathon%205/Datathon-5/Datathon_5_LSTM_Model.ipynb#X41sZmlsZQ%3D%3D?line=10'>11</a>\u001b[0m     \u001b[39mif\u001b[39;00m validation_accuracy_list[\u001b[39m-\u001b[39m\u001b[39m1\u001b[39m] \u001b[39m>\u001b[39m max_acc:\n",
            "\u001b[1;32mc:\\Users\\priyo\\OneDrive - University of Toronto\\Machine Learning Zahra\\Datathon 5\\Datathon-5\\Datathon_5_LSTM_Model.ipynb Cell 23\u001b[0m line \u001b[0;36m3\n\u001b[0;32m     <a href='vscode-notebook-cell:/c%3A/Users/priyo/OneDrive%20-%20University%20of%20Toronto/Machine%20Learning%20Zahra/Datathon%205/Datathon-5/Datathon_5_LSTM_Model.ipynb#X41sZmlsZQ%3D%3D?line=31'>32</a>\u001b[0m \u001b[39mfor\u001b[39;00m X, Y \u001b[39min\u001b[39;00m train_data_loader:\n\u001b[0;32m     <a href='vscode-notebook-cell:/c%3A/Users/priyo/OneDrive%20-%20University%20of%20Toronto/Machine%20Learning%20Zahra/Datathon%205/Datathon-5/Datathon_5_LSTM_Model.ipynb#X41sZmlsZQ%3D%3D?line=32'>33</a>\u001b[0m     \u001b[39m# Y = Y.type(t.LongTensor)   # casting to long\u001b[39;00m\n\u001b[0;32m     <a href='vscode-notebook-cell:/c%3A/Users/priyo/OneDrive%20-%20University%20of%20Toronto/Machine%20Learning%20Zahra/Datathon%205/Datathon-5/Datathon_5_LSTM_Model.ipynb#X41sZmlsZQ%3D%3D?line=33'>34</a>\u001b[0m     \u001b[39m# X = X.type(t.float32)   # casting to long\u001b[39;00m\n\u001b[0;32m     <a href='vscode-notebook-cell:/c%3A/Users/priyo/OneDrive%20-%20University%20of%20Toronto/Machine%20Learning%20Zahra/Datathon%205/Datathon-5/Datathon_5_LSTM_Model.ipynb#X41sZmlsZQ%3D%3D?line=34'>35</a>\u001b[0m     \u001b[39m# X, Y = X.to(device), Y.to(device)\u001b[39;00m\n\u001b[0;32m     <a href='vscode-notebook-cell:/c%3A/Users/priyo/OneDrive%20-%20University%20of%20Toronto/Machine%20Learning%20Zahra/Datathon%205/Datathon-5/Datathon_5_LSTM_Model.ipynb#X41sZmlsZQ%3D%3D?line=35'>36</a>\u001b[0m     \u001b[39m# Forward pass through layers\u001b[39;00m\n\u001b[0;32m     <a href='vscode-notebook-cell:/c%3A/Users/priyo/OneDrive%20-%20University%20of%20Toronto/Machine%20Learning%20Zahra/Datathon%205/Datathon-5/Datathon_5_LSTM_Model.ipynb#X41sZmlsZQ%3D%3D?line=36'>37</a>\u001b[0m     pred \u001b[39m=\u001b[39m model(X)\n\u001b[1;32m---> <a href='vscode-notebook-cell:/c%3A/Users/priyo/OneDrive%20-%20University%20of%20Toronto/Machine%20Learning%20Zahra/Datathon%205/Datathon-5/Datathon_5_LSTM_Model.ipynb#X41sZmlsZQ%3D%3D?line=37'>38</a>\u001b[0m     loss \u001b[39m=\u001b[39m loss_fn(pred, Y)\n\u001b[0;32m     <a href='vscode-notebook-cell:/c%3A/Users/priyo/OneDrive%20-%20University%20of%20Toronto/Machine%20Learning%20Zahra/Datathon%205/Datathon-5/Datathon_5_LSTM_Model.ipynb#X41sZmlsZQ%3D%3D?line=39'>40</a>\u001b[0m     per_epoch_loss_list\u001b[39m.\u001b[39mappend(loss\u001b[39m.\u001b[39mitem())\n\u001b[0;32m     <a href='vscode-notebook-cell:/c%3A/Users/priyo/OneDrive%20-%20University%20of%20Toronto/Machine%20Learning%20Zahra/Datathon%205/Datathon-5/Datathon_5_LSTM_Model.ipynb#X41sZmlsZQ%3D%3D?line=41'>42</a>\u001b[0m     \u001b[39m# Backward pass and optimization\u001b[39;00m\n",
            "File \u001b[1;32mc:\\Users\\priyo\\AppData\\Local\\Programs\\Python\\Python310\\lib\\site-packages\\torch\\nn\\modules\\module.py:1518\u001b[0m, in \u001b[0;36mModule._wrapped_call_impl\u001b[1;34m(self, *args, **kwargs)\u001b[0m\n\u001b[0;32m   1516\u001b[0m     \u001b[39mreturn\u001b[39;00m \u001b[39mself\u001b[39m\u001b[39m.\u001b[39m_compiled_call_impl(\u001b[39m*\u001b[39margs, \u001b[39m*\u001b[39m\u001b[39m*\u001b[39mkwargs)  \u001b[39m# type: ignore[misc]\u001b[39;00m\n\u001b[0;32m   1517\u001b[0m \u001b[39melse\u001b[39;00m:\n\u001b[1;32m-> 1518\u001b[0m     \u001b[39mreturn\u001b[39;00m \u001b[39mself\u001b[39m\u001b[39m.\u001b[39m_call_impl(\u001b[39m*\u001b[39margs, \u001b[39m*\u001b[39m\u001b[39m*\u001b[39mkwargs)\n",
            "File \u001b[1;32mc:\\Users\\priyo\\AppData\\Local\\Programs\\Python\\Python310\\lib\\site-packages\\torch\\nn\\modules\\module.py:1527\u001b[0m, in \u001b[0;36mModule._call_impl\u001b[1;34m(self, *args, **kwargs)\u001b[0m\n\u001b[0;32m   1522\u001b[0m \u001b[39m# If we don't have any hooks, we want to skip the rest of the logic in\u001b[39;00m\n\u001b[0;32m   1523\u001b[0m \u001b[39m# this function, and just call forward.\u001b[39;00m\n\u001b[0;32m   1524\u001b[0m \u001b[39mif\u001b[39;00m \u001b[39mnot\u001b[39;00m (\u001b[39mself\u001b[39m\u001b[39m.\u001b[39m_backward_hooks \u001b[39mor\u001b[39;00m \u001b[39mself\u001b[39m\u001b[39m.\u001b[39m_backward_pre_hooks \u001b[39mor\u001b[39;00m \u001b[39mself\u001b[39m\u001b[39m.\u001b[39m_forward_hooks \u001b[39mor\u001b[39;00m \u001b[39mself\u001b[39m\u001b[39m.\u001b[39m_forward_pre_hooks\n\u001b[0;32m   1525\u001b[0m         \u001b[39mor\u001b[39;00m _global_backward_pre_hooks \u001b[39mor\u001b[39;00m _global_backward_hooks\n\u001b[0;32m   1526\u001b[0m         \u001b[39mor\u001b[39;00m _global_forward_hooks \u001b[39mor\u001b[39;00m _global_forward_pre_hooks):\n\u001b[1;32m-> 1527\u001b[0m     \u001b[39mreturn\u001b[39;00m forward_call(\u001b[39m*\u001b[39margs, \u001b[39m*\u001b[39m\u001b[39m*\u001b[39mkwargs)\n\u001b[0;32m   1529\u001b[0m \u001b[39mtry\u001b[39;00m:\n\u001b[0;32m   1530\u001b[0m     result \u001b[39m=\u001b[39m \u001b[39mNone\u001b[39;00m\n",
            "File \u001b[1;32mc:\\Users\\priyo\\AppData\\Local\\Programs\\Python\\Python310\\lib\\site-packages\\torch\\nn\\modules\\loss.py:1179\u001b[0m, in \u001b[0;36mCrossEntropyLoss.forward\u001b[1;34m(self, input, target)\u001b[0m\n\u001b[0;32m   1178\u001b[0m \u001b[39mdef\u001b[39;00m \u001b[39mforward\u001b[39m(\u001b[39mself\u001b[39m, \u001b[39minput\u001b[39m: Tensor, target: Tensor) \u001b[39m-\u001b[39m\u001b[39m>\u001b[39m Tensor:\n\u001b[1;32m-> 1179\u001b[0m     \u001b[39mreturn\u001b[39;00m F\u001b[39m.\u001b[39;49mcross_entropy(\u001b[39minput\u001b[39;49m, target, weight\u001b[39m=\u001b[39;49m\u001b[39mself\u001b[39;49m\u001b[39m.\u001b[39;49mweight,\n\u001b[0;32m   1180\u001b[0m                            ignore_index\u001b[39m=\u001b[39;49m\u001b[39mself\u001b[39;49m\u001b[39m.\u001b[39;49mignore_index, reduction\u001b[39m=\u001b[39;49m\u001b[39mself\u001b[39;49m\u001b[39m.\u001b[39;49mreduction,\n\u001b[0;32m   1181\u001b[0m                            label_smoothing\u001b[39m=\u001b[39;49m\u001b[39mself\u001b[39;49m\u001b[39m.\u001b[39;49mlabel_smoothing)\n",
            "File \u001b[1;32mc:\\Users\\priyo\\AppData\\Local\\Programs\\Python\\Python310\\lib\\site-packages\\torch\\nn\\functional.py:3053\u001b[0m, in \u001b[0;36mcross_entropy\u001b[1;34m(input, target, weight, size_average, ignore_index, reduce, reduction, label_smoothing)\u001b[0m\n\u001b[0;32m   3051\u001b[0m \u001b[39mif\u001b[39;00m size_average \u001b[39mis\u001b[39;00m \u001b[39mnot\u001b[39;00m \u001b[39mNone\u001b[39;00m \u001b[39mor\u001b[39;00m reduce \u001b[39mis\u001b[39;00m \u001b[39mnot\u001b[39;00m \u001b[39mNone\u001b[39;00m:\n\u001b[0;32m   3052\u001b[0m     reduction \u001b[39m=\u001b[39m _Reduction\u001b[39m.\u001b[39mlegacy_get_string(size_average, reduce)\n\u001b[1;32m-> 3053\u001b[0m \u001b[39mreturn\u001b[39;00m torch\u001b[39m.\u001b[39;49m_C\u001b[39m.\u001b[39;49m_nn\u001b[39m.\u001b[39;49mcross_entropy_loss(\u001b[39minput\u001b[39;49m, target, weight, _Reduction\u001b[39m.\u001b[39;49mget_enum(reduction), ignore_index, label_smoothing)\n",
            "\u001b[1;31mRuntimeError\u001b[0m: \"nll_loss_forward_reduce_cuda_kernel_2d_index\" not implemented for 'Float'"
          ]
        }
      ],
      "source": [
        "# Hyperparameter Tuning\n",
        "EPOCHS = 100\n",
        "max_acc = 0\n",
        "\n",
        "for BATCH_SIZE in [64, 128, 256, 512]:\n",
        "    for LEARNING_RATE in [0.001, 0.01, 0.1]:\n",
        "        for HIDDEN_DIM in [16, 32, 64]:\n",
        "            print(f'Batch Size: {BATCH_SIZE}, Learning Rate: {LEARNING_RATE}, Hidden Dim: {HIDDEN_DIM}')\n",
        "            train_accuracy_list, validation_accuracy_list = modelLoop(EPOCHS, HIDDEN_DIM, LEARNING_RATE, BATCH_SIZE)\n",
        "            plot_acc(train_accuracy_list, validation_accuracy_list)\n",
        "            if validation_accuracy_list[-1] > max_acc:\n",
        "                max_acc = validation_accuracy_list[-1]\n",
        "                best_tuning = (BATCH_SIZE, LEARNING_RATE, HIDDEN_DIM)\n",
        "print(f'Best Batch Size: {best_tuning[0]}, Best Learning Rate: {best_tuning[1]}, Best Hidden Layer Dimension Size(?): {best_tuning[2]}, Resultant Max Accuracy: {max_acc}')"
      ]
    },
    {
      "cell_type": "code",
      "execution_count": null,
      "metadata": {},
      "outputs": [
        {
          "name": "stdout",
          "output_type": "stream",
          "text": [
            "Batch Size: 128, Learning Rate: 0.01, Hidden Dim: 64\n",
            "Epoch 0/100 ---> Train Accuracy: 74.91735537190083%, Validation Accuracy: 46.94055944055944%\n",
            "Epoch 10/100 ---> Train Accuracy: 97.14876033057851%, Validation Accuracy: 71.06643356643356%\n",
            "Epoch 20/100 ---> Train Accuracy: 96.5702479338843%, Validation Accuracy: 70.8479020979021%\n",
            "Epoch 30/100 ---> Train Accuracy: 98.63636363636364%, Validation Accuracy: 71.5472027972028%\n",
            "Epoch 40/100 ---> Train Accuracy: 98.92561983471074%, Validation Accuracy: 71.41608391608392%\n",
            "Epoch 50/100 ---> Train Accuracy: 99.29752066115702%, Validation Accuracy: 72.55244755244755%\n",
            "Epoch 60/100 ---> Train Accuracy: 98.30578512396694%, Validation Accuracy: 63.11188811188811%\n",
            "Epoch 70/100 ---> Train Accuracy: 97.93388429752066%, Validation Accuracy: 70.8479020979021%\n",
            "Epoch 80/100 ---> Train Accuracy: 98.59504132231405%, Validation Accuracy: 71.72202797202797%\n",
            "Epoch 90/100 ---> Train Accuracy: 99.46280991735537%, Validation Accuracy: 72.9895104895105%\n",
            "Epoch 100/100 ---> Train Accuracy: 99.50413223140495%, Validation Accuracy: 72.59615384615384%\n"
          ]
        },
        {
          "data": {
            "image/png": "[encoded data removed]",
            "text/plain": [
              "<Figure size 640x480 with 1 Axes>"
            ]
          },
          "metadata": {},
          "output_type": "display_data"
        },
        {
          "name": "stdout",
          "output_type": "stream",
          "text": [
            "Batch Size: 128, Learning Rate: 0.01, Hidden Dim: 128\n",
            "Epoch 0/100 ---> Train Accuracy: 84.42148760330579%, Validation Accuracy: 41.43356643356643%\n",
            "Epoch 10/100 ---> Train Accuracy: 97.27272727272727%, Validation Accuracy: 68.0506993006993%\n",
            "Epoch 20/100 ---> Train Accuracy: 98.47107438016529%, Validation Accuracy: 70.8479020979021%\n",
            "Epoch 30/100 ---> Train Accuracy: 99.17355371900827%, Validation Accuracy: 72.85839160839161%\n",
            "Epoch 40/100 ---> Train Accuracy: 94.83471074380165%, Validation Accuracy: 58.74125874125874%\n",
            "Epoch 50/100 ---> Train Accuracy: 99.25619834710744%, Validation Accuracy: 72.9458041958042%\n",
            "Epoch 60/100 ---> Train Accuracy: 99.50413223140495%, Validation Accuracy: 72.55244755244755%\n",
            "Epoch 70/100 ---> Train Accuracy: 99.58677685950413%, Validation Accuracy: 72.85839160839161%\n",
            "Epoch 80/100 ---> Train Accuracy: 99.62809917355372%, Validation Accuracy: 73.38286713286713%\n",
            "Epoch 90/100 ---> Train Accuracy: 99.17355371900827%, Validation Accuracy: 69.5367132867133%\n",
            "Epoch 100/100 ---> Train Accuracy: 99.54545454545455%, Validation Accuracy: 69.58041958041959%\n"
          ]
        },
        {
          "data": {
            "image/png": "[encoded data removed]",
            "text/plain": [
              "<Figure size 640x480 with 1 Axes>"
            ]
          },
          "metadata": {},
          "output_type": "display_data"
        },
        {
          "name": "stdout",
          "output_type": "stream",
          "text": [
            "Batch Size: 128, Learning Rate: 0.01, Hidden Dim: 256\n",
            "Epoch 0/100 ---> Train Accuracy: 76.77685950413223%, Validation Accuracy: 34.0472027972028%\n",
            "Epoch 10/100 ---> Train Accuracy: 98.01652892561984%, Validation Accuracy: 68.40034965034965%\n",
            "Epoch 20/100 ---> Train Accuracy: 98.96694214876032%, Validation Accuracy: 73.07692307692308%\n",
            "Epoch 30/100 ---> Train Accuracy: 98.14049586776859%, Validation Accuracy: 70.67307692307692%\n",
            "Epoch 40/100 ---> Train Accuracy: 97.89256198347107%, Validation Accuracy: 64.5541958041958%\n",
            "Epoch 50/100 ---> Train Accuracy: 83.18181818181819%, Validation Accuracy: 40.16608391608391%\n",
            "Epoch 60/100 ---> Train Accuracy: 92.27272727272727%, Validation Accuracy: 55.63811188811189%\n",
            "Epoch 70/100 ---> Train Accuracy: 96.07438016528926%, Validation Accuracy: 56.33741258741259%\n",
            "Epoch 80/100 ---> Train Accuracy: 96.52892561983471%, Validation Accuracy: 54.45804195804196%\n",
            "Epoch 90/100 ---> Train Accuracy: 95.08264462809917%, Validation Accuracy: 56.03146853146853%\n",
            "Epoch 100/100 ---> Train Accuracy: 94.83471074380165%, Validation Accuracy: 54.63286713286713%\n"
          ]
        },
        {
          "data": {
            "image/png": "[encoded data removed]",
            "text/plain": [
              "<Figure size 640x480 with 1 Axes>"
            ]
          },
          "metadata": {},
          "output_type": "display_data"
        },
        {
          "name": "stdout",
          "output_type": "stream",
          "text": [
            "Best Batch Size: 128, Best Learning Rate: 0.01, Best Hidden Layer Dimension Size: 64, Resultant Max Accuracy: 72.59615384615384\n"
          ]
        }
      ],
      "source": [
        "# Hyperparameter Tuning Part 2\n",
        "EPOCHS = 100\n",
        "BATCH_SIZE = 128\n",
        "LEARNING_RATE = 0.01\n",
        "max_acc = 0\n",
        "\n",
        "for HIDDEN_DIM in [64, 128, 256]:\n",
        "    print(f'Batch Size: {BATCH_SIZE}, Learning Rate: {LEARNING_RATE}, Hidden Dim: {HIDDEN_DIM}')\n",
        "    train_accuracy_list, validation_accuracy_list = modelLoop(EPOCHS, HIDDEN_DIM, LEARNING_RATE, BATCH_SIZE)\n",
        "    plot_acc(train_accuracy_list, validation_accuracy_list)\n",
        "    if validation_accuracy_list[-1] > max_acc:\n",
        "        max_acc = validation_accuracy_list[-1]\n",
        "        best_tuning = (BATCH_SIZE, LEARNING_RATE, HIDDEN_DIM)\n",
        "print(f'Best Batch Size: {best_tuning[0]}, Best Learning Rate: {best_tuning[1]}, Best Hidden Layer Dimension Size: {best_tuning[2]}, Resultant Max Accuracy: {max_acc}')"
      ]
    }
  ],
  "metadata": {
    "accelerator": "TPU",
    "colab": {
      "include_colab_link": true,
      "provenance": []
    },
    "kernelspec": {
      "display_name": "Python 3",
      "name": "python3"
    },
    "language_info": {
      "codemirror_mode": {
        "name": "ipython",
        "version": 3
      },
      "file_extension": ".py",
      "mimetype": "text/x-python",
      "name": "python",
      "nbconvert_exporter": "python",
      "pygments_lexer": "ipython3",
      "version": "3.10.6"
    }
  },
  "nbformat": 4,
  "nbformat_minor": 0
}
